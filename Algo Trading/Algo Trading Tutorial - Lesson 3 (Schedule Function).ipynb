{
 "cells": [
  {
   "cell_type": "markdown",
   "metadata": {},
   "source": [
    "reference: https://www.quantopian.com/tutorials/algorithmic-trading-sentdex#lesson3"
   ]
  },
  {
   "cell_type": "markdown",
   "metadata": {},
   "source": [
    "using schedule_fuction to run a function, and define how and when to run certain algorithms"
   ]
  },
  {
   "cell_type": "code",
   "execution_count": null,
   "metadata": {},
   "outputs": [],
   "source": [
    "def initialize(context):\n",
    "    context.aapl = sid(24)\n",
    "    schedule_function(ma_crossover_handling,\n",
    "                     date_rules.every_day(),\n",
    "                     time_rules.market_open(hours = 1))\n",
    "    \n",
    "def ma_crossover_handling(context, data):\n",
    "    hist = data.history(context.aapl, 'price', 50, '1d')\n",
    "    log.info(hist.head())\n",
    "    sma_50 = hist.mean()\n",
    "    sma_20 = hist[:-20].mean()\n",
    "    \n",
    "    open_orders = get_open_orders()\n",
    "    \n",
    "    if sma_20 > sma_50:\n",
    "        if context.aapl not in open_orders:\n",
    "            order_target_percent(context.aapl, 1.0)\n",
    "    elif sma_50 > sma_20:\n",
    "        if context.aapl not in open_orders:\n",
    "            order_target_percent(context.aapl, -1.0)\n",
    "        \n",
    "    record(leverage = context.account.leverate)"
   ]
  },
  {
   "cell_type": "markdown",
   "metadata": {},
   "source": [
    "This algo does well in IDE. However, note that the leverage is crazy for this algo.\n",
    "This algo ignores the friction, and open orders.\n",
    "\n",
    "handle_data runs every minute"
   ]
  },
  {
   "cell_type": "code",
   "execution_count": null,
   "metadata": {},
   "outputs": [],
   "source": []
  }
 ],
 "metadata": {
  "kernelspec": {
   "display_name": "Python 3",
   "language": "python",
   "name": "python3"
  },
  "language_info": {
   "codemirror_mode": {
    "name": "ipython",
    "version": 3
   },
   "file_extension": ".py",
   "mimetype": "text/x-python",
   "name": "python",
   "nbconvert_exporter": "python",
   "pygments_lexer": "ipython3",
   "version": "3.5.3"
  }
 },
 "nbformat": 4,
 "nbformat_minor": 2
}
