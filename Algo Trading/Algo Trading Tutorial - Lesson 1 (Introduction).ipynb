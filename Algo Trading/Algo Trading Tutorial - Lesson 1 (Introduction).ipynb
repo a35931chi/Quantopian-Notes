{
 "cells": [
  {
   "cell_type": "markdown",
   "metadata": {},
   "source": [
    "reference: https://www.quantopian.com/tutorials/algorithmic-trading-sentdex"
   ]
  },
  {
   "cell_type": "code",
   "execution_count": null,
   "metadata": {},
   "outputs": [],
   "source": [
    "the youtube video seems quite old.\n",
    "\n",
    "sentdex went through quantopian motivations, and went straight to the IDE. \n",
    "\n",
    "he introduced initialize, handle_data, data and context in the IDE environment. \n",
    "- context is your portfolio\n",
    "- data is your universe of information\n",
    "- handle_data "
   ]
  },
  {
   "cell_type": "code",
   "execution_count": null,
   "metadata": {},
   "outputs": [],
   "source": [
    "def initialize(context):\n",
    "    context.aapl = sid(24)\n",
    "    \n",
    "def handle_data(context, data):\n",
    "    hist = data.history(context.aapl, 'price', 50, '1d')\n",
    "    log.info(hist.)"
   ]
  }
 ],
 "metadata": {
  "kernelspec": {
   "display_name": "Python 3",
   "language": "python",
   "name": "python3"
  },
  "language_info": {
   "codemirror_mode": {
    "name": "ipython",
    "version": 3
   },
   "file_extension": ".py",
   "mimetype": "text/x-python",
   "name": "python",
   "nbconvert_exporter": "python",
   "pygments_lexer": "ipython3",
   "version": "3.5.3"
  }
 },
 "nbformat": 4,
 "nbformat_minor": 2
}
